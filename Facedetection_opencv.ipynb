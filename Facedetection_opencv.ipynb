{
  "nbformat": 4,
  "nbformat_minor": 0,
  "metadata": {
    "colab": {
      "provenance": [],
      "authorship_tag": "ABX9TyM+zVLjBh2WBMnojo+U4PA1",
      "include_colab_link": true
    },
    "kernelspec": {
      "name": "python3",
      "display_name": "Python 3"
    },
    "language_info": {
      "name": "python"
    }
  },
  "cells": [
    {
      "cell_type": "markdown",
      "metadata": {
        "id": "view-in-github",
        "colab_type": "text"
      },
      "source": [
        "<a href=\"https://colab.research.google.com/github/manilalam/cnn_project1/blob/main/Facedetection_opencv.ipynb\" target=\"_parent\"><img src=\"https://colab.research.google.com/assets/colab-badge.svg\" alt=\"Open In Colab\"/></a>"
      ]
    },
    {
      "cell_type": "code",
      "execution_count": 17,
      "metadata": {
        "id": "eFz9ZKWq_PpY"
      },
      "outputs": [],
      "source": [
        "import cv2 as cv\n",
        "from google.colab.patches import cv2_imshow as cv_imshow\n",
        "import numpy as np\n",
        "img = cv.imread(\"peoples.jpg\")"
      ]
    },
    {
      "cell_type": "code",
      "source": [
        "gray = cv.cvtColor(img,cv.COLOR_BGR2GRAY)"
      ],
      "metadata": {
        "id": "EB3ZiF4TETFZ"
      },
      "execution_count": 18,
      "outputs": []
    },
    {
      "cell_type": "code",
      "source": [
        "### reading the xml file\n",
        "haar_cascade = cv.CascadeClassifier('/content/faces.xml')\n",
        "\n",
        "faces_rect = haar_cascade.detectMultiScale(gray,1.1,3)\n",
        "print(len(faces_rect))"
      ],
      "metadata": {
        "colab": {
          "base_uri": "https://localhost:8080/"
        },
        "id": "5dwaCZAAEqQ0",
        "outputId": "c681af11-3f78-4881-8cf0-7cf703d34965"
      },
      "execution_count": 19,
      "outputs": [
        {
          "output_type": "stream",
          "name": "stdout",
          "text": [
            "5\n"
          ]
        }
      ]
    },
    {
      "cell_type": "code",
      "source": [
        "for (x,y,w,h) in faces_rect:\n",
        "  cv.rectangle(img,(x,y),(x+w,y+h),(0,255,0),2)\n",
        "cv_imshow(img)"
      ],
      "metadata": {
        "id": "pghTV4IzGC-I"
      },
      "execution_count": null,
      "outputs": []
    },
    {
      "cell_type": "code",
      "source": [],
      "metadata": {
        "id": "hSYlBZfXGzU5"
      },
      "execution_count": null,
      "outputs": []
    }
  ]
}